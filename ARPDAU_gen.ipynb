{
 "cells": [
  {
   "cell_type": "code",
   "execution_count": null,
   "metadata": {
    "collapsed": true,
    "deletable": true,
    "editable": true
   },
   "outputs": [],
   "source": [
    "import pandas as pd\n",
    "import numpy as np\n",
    "from datetime import datetime, timedelta"
   ]
  },
  {
   "cell_type": "code",
   "execution_count": null,
   "metadata": {
    "collapsed": false,
    "deletable": true,
    "editable": true
   },
   "outputs": [],
   "source": [
    "cohorts = list()\n",
    "start = datetime.today() - timedelta(50)\n",
    "for i in range(50):\n",
    "    row = dict()\n",
    "    row['date'] = (start + timedelta(i)).strftime(\"%Y-%m-%d\")\n",
    "    row['cohort_size'] = int(np.random.normal(1000, 100, 1))\n",
    "    for j in range(50 - i - 1):\n",
    "        row['day_{0:02d}'.format(j + 1)] = 50000  / ((j + 1) * 300 + 500) + float(np.random.normal(0, 0.1, 1))\n",
    "    cohorts.append(row)"
   ]
  },
  {
   "cell_type": "code",
   "execution_count": null,
   "metadata": {
    "collapsed": false,
    "deletable": true,
    "editable": true
   },
   "outputs": [],
   "source": [
    "df = pd.DataFrame().from_records(cohorts).fillna(value=0)\n",
    "df.to_csv('testcase_ltv.csv', encoding='utf-8', float_format='%.2f', index=False)\n",
    "df"
   ]
  },
  {
   "cell_type": "code",
   "execution_count": null,
   "metadata": {
    "collapsed": true,
    "deletable": true,
    "editable": true
   },
   "outputs": [],
   "source": []
  }
 ],
 "metadata": {
  "kernelspec": {
   "display_name": "Python 3",
   "language": "python",
   "name": "python3"
  },
  "language_info": {
   "codemirror_mode": {
    "name": "ipython",
    "version": 3
   },
   "file_extension": ".py",
   "mimetype": "text/x-python",
   "name": "python",
   "nbconvert_exporter": "python",
   "pygments_lexer": "ipython3",
   "version": "3.5.2"
  }
 },
 "nbformat": 4,
 "nbformat_minor": 2
}
